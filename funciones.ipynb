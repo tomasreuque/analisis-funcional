{
 "cells": [
  {
   "cell_type": "code",
   "execution_count": 1,
   "metadata": {},
   "outputs": [
    {
     "name": "stdout",
     "output_type": "stream",
     "text": [
      "4*x**3 + 21*x**2\n"
     ]
    }
   ],
   "source": [
    "import sympy as sym\n",
    "x = sym.Symbol('x')\n",
    "function = x ** 4 + 7 * x ** 3 + 8\n",
    "derivitive = sym.diff(function)\n",
    "print(derivitive)"
   ]
  },
  {
   "cell_type": "code",
   "execution_count": 11,
   "metadata": {},
   "outputs": [],
   "source": [
    "def concavidad(funcion):\n",
    "    \"\"\"\"abs\n",
    "    esta funcion recdibe 3 parametros para hayar concavidad de una funcion cubica\n",
    "    x3 termino cubico\n",
    "    x2 termino cuadrado\n",
    "    c constante\n",
    "    \"\"\"\n",
    "    x, y = symbols('x y')\n",
    "    primera = sym.diff(funcion)\n",
    "    segunda = sym.diff(primera)\n",
    "    equation = Eq(y, segunda)\n",
    "    equation2 = Eq(y, result)\n",
    "\n",
    "    # Use sympy.subs() method\n",
    "    result = solve(equation.subs(y, 0))\n",
    "    imagen = solve.(equation2.subs(x, ))\n",
    "\n",
    "    return result\n"
   ]
  },
  {
   "cell_type": "code",
   "execution_count": 12,
   "metadata": {},
   "outputs": [
    {
     "data": {
      "text/plain": [
       "[-7/2, 0]"
      ]
     },
     "execution_count": 12,
     "metadata": {},
     "output_type": "execute_result"
    }
   ],
   "source": [
    "concavidad(x ** 4 + 7 * x ** 3 + 8)"
   ]
  },
  {
   "cell_type": "code",
   "execution_count": 49,
   "metadata": {},
   "outputs": [],
   "source": [
    "x, y = symbols('x y')\n",
    "function = x ** 4 + 7 * x ** 3 + 8\n",
    "primera = sym.diff(function)\n",
    "segunda = sym.diff(primera)\n",
    "equation = Eq(y, segunda)\n",
    "equation2 = Eq(y, function)\n",
    "\n",
    "# Use sympy.subs() method\n",
    "result = solve(equation.subs(y, 0))\n",
    "pto_inf = solve(equation2.subs(x, result[0]))\n",
    "izq = solve(equation.subs(x, result[0]-1))\n",
    "der = solve(equation.subs(x, result[0]+1))\n"
   ]
  },
  {
   "cell_type": "code",
   "execution_count": 52,
   "metadata": {},
   "outputs": [
    {
     "name": "stdout",
     "output_type": "stream",
     "text": [
      "[-30]\n"
     ]
    }
   ],
   "source": [
    "print(der)"
   ]
  },
  {
   "cell_type": "code",
   "execution_count": 46,
   "metadata": {},
   "outputs": [
    {
     "name": "stdout",
     "output_type": "stream",
     "text": [
      "[-2273/16]\n"
     ]
    }
   ],
   "source": [
    "print(imagen)"
   ]
  },
  {
   "cell_type": "code",
   "execution_count": 42,
   "metadata": {},
   "outputs": [
    {
     "name": "stdout",
     "output_type": "stream",
     "text": [
      "<class 'list'>\n"
     ]
    }
   ],
   "source": [
    "print(type(result))"
   ]
  },
  {
   "cell_type": "code",
   "execution_count": 48,
   "metadata": {},
   "outputs": [
    {
     "name": "stdout",
     "output_type": "stream",
     "text": [
      "-7/2\n"
     ]
    }
   ],
   "source": [
    "print(result[0])"
   ]
  },
  {
   "cell_type": "code",
   "execution_count": null,
   "metadata": {},
   "outputs": [],
   "source": []
  }
 ],
 "metadata": {
  "kernelspec": {
   "display_name": "Python 3.10.6 64-bit",
   "language": "python",
   "name": "python3"
  },
  "language_info": {
   "codemirror_mode": {
    "name": "ipython",
    "version": 3
   },
   "file_extension": ".py",
   "mimetype": "text/x-python",
   "name": "python",
   "nbconvert_exporter": "python",
   "pygments_lexer": "ipython3",
   "version": "3.10.6"
  },
  "orig_nbformat": 4,
  "vscode": {
   "interpreter": {
    "hash": "31f2aee4e71d21fbe5cf8b01ff0e069b9275f58929596ceb00d14d90e3e16cd6"
   }
  }
 },
 "nbformat": 4,
 "nbformat_minor": 2
}
